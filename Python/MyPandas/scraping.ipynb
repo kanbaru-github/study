{
 "cells": [
  {
   "cell_type": "code",
   "execution_count": 1,
   "id": "18d3f098-a0c1-4e2c-9158-f8694e959eaf",
   "metadata": {},
   "outputs": [
    {
     "name": "stdout",
     "output_type": "stream",
     "text": [
      "Collecting selenium\n",
      "  Downloading selenium-4.7.2-py3-none-any.whl (6.3 MB)\n",
      "\u001b[K     |████████████████████████████████| 6.3 MB 3.0 MB/s eta 0:00:01\n",
      "\u001b[?25hCollecting trio~=0.17\n",
      "  Downloading trio-0.22.0-py3-none-any.whl (384 kB)\n",
      "\u001b[K     |████████████████████████████████| 384 kB 1.7 MB/s eta 0:00:01\n",
      "\u001b[?25hCollecting trio-websocket~=0.9\n",
      "  Downloading trio_websocket-0.9.2-py3-none-any.whl (16 kB)\n",
      "Requirement already satisfied: certifi>=2021.10.8 in /Users/suzukihiroaki/opt/anaconda3/lib/python3.9/site-packages (from selenium) (2021.10.8)\n",
      "Requirement already satisfied: urllib3[socks]~=1.26 in /Users/suzukihiroaki/opt/anaconda3/lib/python3.9/site-packages (from selenium) (1.26.9)\n",
      "Collecting async-generator>=1.9\n",
      "  Downloading async_generator-1.10-py3-none-any.whl (18 kB)\n",
      "Requirement already satisfied: sniffio in /Users/suzukihiroaki/opt/anaconda3/lib/python3.9/site-packages (from trio~=0.17->selenium) (1.2.0)\n",
      "Collecting exceptiongroup>=1.0.0rc9\n",
      "  Downloading exceptiongroup-1.1.0-py3-none-any.whl (14 kB)\n",
      "Requirement already satisfied: sortedcontainers in /Users/suzukihiroaki/opt/anaconda3/lib/python3.9/site-packages (from trio~=0.17->selenium) (2.4.0)\n",
      "Collecting outcome\n",
      "  Downloading outcome-1.2.0-py2.py3-none-any.whl (9.7 kB)\n",
      "Requirement already satisfied: idna in /Users/suzukihiroaki/opt/anaconda3/lib/python3.9/site-packages (from trio~=0.17->selenium) (3.3)\n",
      "Requirement already satisfied: attrs>=19.2.0 in /Users/suzukihiroaki/opt/anaconda3/lib/python3.9/site-packages (from trio~=0.17->selenium) (21.4.0)\n",
      "Collecting wsproto>=0.14\n",
      "  Downloading wsproto-1.2.0-py3-none-any.whl (24 kB)\n",
      "Requirement already satisfied: PySocks!=1.5.7,<2.0,>=1.5.6 in /Users/suzukihiroaki/opt/anaconda3/lib/python3.9/site-packages (from urllib3[socks]~=1.26->selenium) (1.7.1)\n",
      "Collecting h11<1,>=0.9.0\n",
      "  Downloading h11-0.14.0-py3-none-any.whl (58 kB)\n",
      "\u001b[K     |████████████████████████████████| 58 kB 5.2 MB/s eta 0:00:01\n",
      "\u001b[?25hInstalling collected packages: outcome, h11, exceptiongroup, async-generator, wsproto, trio, trio-websocket, selenium\n",
      "Successfully installed async-generator-1.10 exceptiongroup-1.1.0 h11-0.14.0 outcome-1.2.0 selenium-4.7.2 trio-0.22.0 trio-websocket-0.9.2 wsproto-1.2.0\n"
     ]
    }
   ],
   "source": [
    "!pip install selenium"
   ]
  },
  {
   "cell_type": "code",
   "execution_count": 2,
   "id": "a3b73c99-555f-456f-aa0b-7e542a3e0a5b",
   "metadata": {},
   "outputs": [
    {
     "name": "stdout",
     "output_type": "stream",
     "text": [
      "Requirement already satisfied: beautifulsoup4 in /Users/suzukihiroaki/opt/anaconda3/lib/python3.9/site-packages (4.11.1)\n",
      "Requirement already satisfied: soupsieve>1.2 in /Users/suzukihiroaki/opt/anaconda3/lib/python3.9/site-packages (from beautifulsoup4) (2.3.1)\n"
     ]
    }
   ],
   "source": [
    "!pip install beautifulsoup4"
   ]
  },
  {
   "cell_type": "code",
   "execution_count": 1,
   "id": "cb307d65-2a18-4625-98f3-ca3aea57ad69",
   "metadata": {},
   "outputs": [],
   "source": [
    "from selenium import webdriver\n",
    "import time\n",
    "import pandas as pd"
   ]
  },
  {
   "cell_type": "code",
   "execution_count": 2,
   "id": "88466dc3-7950-48a8-b437-904e3394cb3b",
   "metadata": {},
   "outputs": [],
   "source": [
    "USER = \"test_user\"\n",
    "PASS = \"test_pw\""
   ]
  },
  {
   "cell_type": "code",
   "execution_count": 9,
   "id": "13039ba1-ba3c-41a3-bdda-0112c88be14b",
   "metadata": {},
   "outputs": [],
   "source": [
    "# Google Chromeを起動\n",
    "browser = webdriver.Chrome()\n",
    "browser.implicitly_wait(3)"
   ]
  },
  {
   "cell_type": "code",
   "execution_count": 10,
   "id": "a18080ca-9655-4c8d-b3ba-e5b4a3774cfd",
   "metadata": {},
   "outputs": [
    {
     "name": "stdout",
     "output_type": "stream",
     "text": [
      "ログインページにアクセスしました\n"
     ]
    }
   ],
   "source": [
    "# ログインするページへアクセス\n",
    "url_login = \"https://kino-code.work/membership-login/\"\n",
    "browser.get(url_login)\n",
    "time.sleep(3)\n",
    "print(\"ログインページにアクセスしました\")"
   ]
  },
  {
   "cell_type": "code",
   "execution_count": 11,
   "id": "642f7e5e-325e-4608-8125-053ce53ad133",
   "metadata": {},
   "outputs": [
    {
     "ename": "AttributeError",
     "evalue": "'WebDriver' object has no attribute 'find_element_by_id'",
     "output_type": "error",
     "traceback": [
      "\u001b[0;31m---------------------------------------------------------------------------\u001b[0m",
      "\u001b[0;31mAttributeError\u001b[0m                            Traceback (most recent call last)",
      "Input \u001b[0;32mIn [11]\u001b[0m, in \u001b[0;36m<cell line: 2>\u001b[0;34m()\u001b[0m\n\u001b[1;32m      1\u001b[0m \u001b[38;5;66;03m# テキストページに値を入力\u001b[39;00m\n\u001b[0;32m----> 2\u001b[0m element \u001b[38;5;241m=\u001b[39m \u001b[43mbrowser\u001b[49m\u001b[38;5;241;43m.\u001b[39;49m\u001b[43mfind_element_by_id\u001b[49m(\u001b[38;5;124m'\u001b[39m\u001b[38;5;124mswpm_user_name\u001b[39m\u001b[38;5;124m'\u001b[39m)\n\u001b[1;32m      3\u001b[0m element\u001b[38;5;241m.\u001b[39mclear\n\u001b[1;32m      4\u001b[0m element\u001b[38;5;241m.\u001b[39msend_keys(USER)\n",
      "\u001b[0;31mAttributeError\u001b[0m: 'WebDriver' object has no attribute 'find_element_by_id'"
     ]
    }
   ],
   "source": [
    "# テキストページに値を入力\n",
    "# seleniumのバージョンを下げないと以下のメソッドが使用できない\n",
    "element = browser.find_element_by_id('swpm_user_name')\n",
    "element.clear\n",
    "element.send_keys(USER)\n",
    "element = browser.find_element_by_id('swpm_password')\n",
    "element.clear\n",
    "element.send_keys(PASS)"
   ]
  },
  {
   "cell_type": "code",
   "execution_count": null,
   "id": "b59af2bf-0846-4f0d-a277-1708b844b757",
   "metadata": {},
   "outputs": [],
   "source": []
  }
 ],
 "metadata": {
  "kernelspec": {
   "display_name": "Python 3 (ipykernel)",
   "language": "python",
   "name": "python3"
  },
  "language_info": {
   "codemirror_mode": {
    "name": "ipython",
    "version": 3
   },
   "file_extension": ".py",
   "mimetype": "text/x-python",
   "name": "python",
   "nbconvert_exporter": "python",
   "pygments_lexer": "ipython3",
   "version": "3.9.12"
  }
 },
 "nbformat": 4,
 "nbformat_minor": 5
}
