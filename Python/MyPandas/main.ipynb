{
 "cells": [
  {
   "cell_type": "code",
   "execution_count": 49,
   "id": "27635b66-096f-4ba0-9057-3ceb7b917d76",
   "metadata": {},
   "outputs": [],
   "source": [
    "import pandas as pd"
   ]
  },
  {
   "cell_type": "code",
   "execution_count": 9,
   "id": "8b6150ea-7a44-4937-ab59-d906ec261482",
   "metadata": {},
   "outputs": [],
   "source": [
    "import numpy as np"
   ]
  },
  {
   "cell_type": "code",
   "execution_count": 5,
   "id": "187cd251-f4b7-4a69-84d9-d7e362f392f4",
   "metadata": {},
   "outputs": [
    {
     "data": {
      "text/html": [
       "<div>\n",
       "<style scoped>\n",
       "    .dataframe tbody tr th:only-of-type {\n",
       "        vertical-align: middle;\n",
       "    }\n",
       "\n",
       "    .dataframe tbody tr th {\n",
       "        vertical-align: top;\n",
       "    }\n",
       "\n",
       "    .dataframe thead th {\n",
       "        text-align: right;\n",
       "    }\n",
       "</style>\n",
       "<table border=\"1\" class=\"dataframe\">\n",
       "  <thead>\n",
       "    <tr style=\"text-align: right;\">\n",
       "      <th></th>\n",
       "      <th>col01</th>\n",
       "      <th>col02</th>\n",
       "      <th>col03</th>\n",
       "    </tr>\n",
       "  </thead>\n",
       "  <tbody>\n",
       "    <tr>\n",
       "      <th>idx01</th>\n",
       "      <td>1</td>\n",
       "      <td>2</td>\n",
       "      <td>3</td>\n",
       "    </tr>\n",
       "    <tr>\n",
       "      <th>idx02</th>\n",
       "      <td>4</td>\n",
       "      <td>5</td>\n",
       "      <td>6</td>\n",
       "    </tr>\n",
       "    <tr>\n",
       "      <th>idx03</th>\n",
       "      <td>7</td>\n",
       "      <td>8</td>\n",
       "      <td>9</td>\n",
       "    </tr>\n",
       "  </tbody>\n",
       "</table>\n",
       "</div>"
      ],
      "text/plain": [
       "       col01  col02  col03\n",
       "idx01      1      2      3\n",
       "idx02      4      5      6\n",
       "idx03      7      8      9"
      ]
     },
     "execution_count": 5,
     "metadata": {},
     "output_type": "execute_result"
    }
   ],
   "source": [
    "df = pd.DataFrame([[1, 2, 3], [4, 5, 6], [7, 8, 9]],\n",
    "                  columns = ['col01', 'col02', 'col03'],\n",
    "                  index = ['idx01', 'idx02', 'idx03'])\n",
    "df"
   ]
  },
  {
   "cell_type": "code",
   "execution_count": 20,
   "id": "91e6dc5e-6dc3-42c1-b082-6890b291c38e",
   "metadata": {},
   "outputs": [
    {
     "data": {
      "text/plain": [
       "pandas.core.frame.DataFrame"
      ]
     },
     "execution_count": 20,
     "metadata": {},
     "output_type": "execute_result"
    }
   ],
   "source": [
    "type(df)"
   ]
  },
  {
   "cell_type": "code",
   "execution_count": 23,
   "id": "f15933d6-7b62-4244-be64-eaafa4d6a9a3",
   "metadata": {},
   "outputs": [
    {
     "data": {
      "text/plain": [
       "col01    int64\n",
       "col02    int64\n",
       "col03    int64\n",
       "dtype: object"
      ]
     },
     "execution_count": 23,
     "metadata": {},
     "output_type": "execute_result"
    }
   ],
   "source": [
    "df.dtypes"
   ]
  },
  {
   "cell_type": "code",
   "execution_count": 21,
   "id": "28c639f2-12ac-4254-b312-4fa6e834b3b8",
   "metadata": {},
   "outputs": [],
   "source": [
    "pd.set_option('display.max_rows', 10)"
   ]
  },
  {
   "cell_type": "code",
   "execution_count": 31,
   "id": "858793f6-6b8e-454f-801f-874490caf25f",
   "metadata": {},
   "outputs": [
    {
     "data": {
      "text/html": [
       "<div>\n",
       "<style scoped>\n",
       "    .dataframe tbody tr th:only-of-type {\n",
       "        vertical-align: middle;\n",
       "    }\n",
       "\n",
       "    .dataframe tbody tr th {\n",
       "        vertical-align: top;\n",
       "    }\n",
       "\n",
       "    .dataframe thead th {\n",
       "        text-align: right;\n",
       "    }\n",
       "</style>\n",
       "<table border=\"1\" class=\"dataframe\">\n",
       "  <thead>\n",
       "    <tr style=\"text-align: right;\">\n",
       "      <th></th>\n",
       "      <th>都道府県コード</th>\n",
       "      <th>都道府県名</th>\n",
       "      <th>元号</th>\n",
       "      <th>和暦（年）</th>\n",
       "      <th>西暦（年）</th>\n",
       "      <th>注</th>\n",
       "      <th>人口（総数）</th>\n",
       "      <th>人口（男）</th>\n",
       "      <th>人口（女）</th>\n",
       "    </tr>\n",
       "  </thead>\n",
       "  <tbody>\n",
       "    <tr>\n",
       "      <th>0</th>\n",
       "      <td>00</td>\n",
       "      <td>全国</td>\n",
       "      <td>大正</td>\n",
       "      <td>9.0</td>\n",
       "      <td>1920.0</td>\n",
       "      <td>NaN</td>\n",
       "      <td>55963053</td>\n",
       "      <td>28044185</td>\n",
       "      <td>27918868</td>\n",
       "    </tr>\n",
       "    <tr>\n",
       "      <th>1</th>\n",
       "      <td>01</td>\n",
       "      <td>北海道</td>\n",
       "      <td>大正</td>\n",
       "      <td>9.0</td>\n",
       "      <td>1920.0</td>\n",
       "      <td>NaN</td>\n",
       "      <td>2359183</td>\n",
       "      <td>1244322</td>\n",
       "      <td>1114861</td>\n",
       "    </tr>\n",
       "    <tr>\n",
       "      <th>2</th>\n",
       "      <td>02</td>\n",
       "      <td>青森県</td>\n",
       "      <td>大正</td>\n",
       "      <td>9.0</td>\n",
       "      <td>1920.0</td>\n",
       "      <td>NaN</td>\n",
       "      <td>756454</td>\n",
       "      <td>381293</td>\n",
       "      <td>375161</td>\n",
       "    </tr>\n",
       "    <tr>\n",
       "      <th>3</th>\n",
       "      <td>03</td>\n",
       "      <td>岩手県</td>\n",
       "      <td>大正</td>\n",
       "      <td>9.0</td>\n",
       "      <td>1920.0</td>\n",
       "      <td>NaN</td>\n",
       "      <td>845540</td>\n",
       "      <td>421069</td>\n",
       "      <td>424471</td>\n",
       "    </tr>\n",
       "    <tr>\n",
       "      <th>4</th>\n",
       "      <td>04</td>\n",
       "      <td>宮城県</td>\n",
       "      <td>大正</td>\n",
       "      <td>9.0</td>\n",
       "      <td>1920.0</td>\n",
       "      <td>NaN</td>\n",
       "      <td>961768</td>\n",
       "      <td>485309</td>\n",
       "      <td>476459</td>\n",
       "    </tr>\n",
       "    <tr>\n",
       "      <th>...</th>\n",
       "      <td>...</td>\n",
       "      <td>...</td>\n",
       "      <td>...</td>\n",
       "      <td>...</td>\n",
       "      <td>...</td>\n",
       "      <td>...</td>\n",
       "      <td>...</td>\n",
       "      <td>...</td>\n",
       "      <td>...</td>\n",
       "    </tr>\n",
       "    <tr>\n",
       "      <th>977</th>\n",
       "      <td>45</td>\n",
       "      <td>宮崎県</td>\n",
       "      <td>平成</td>\n",
       "      <td>27.0</td>\n",
       "      <td>2015.0</td>\n",
       "      <td>NaN</td>\n",
       "      <td>1104069</td>\n",
       "      <td>519242</td>\n",
       "      <td>584827</td>\n",
       "    </tr>\n",
       "    <tr>\n",
       "      <th>978</th>\n",
       "      <td>46</td>\n",
       "      <td>鹿児島県</td>\n",
       "      <td>平成</td>\n",
       "      <td>27.0</td>\n",
       "      <td>2015.0</td>\n",
       "      <td>NaN</td>\n",
       "      <td>1648177</td>\n",
       "      <td>773061</td>\n",
       "      <td>875116</td>\n",
       "    </tr>\n",
       "    <tr>\n",
       "      <th>979</th>\n",
       "      <td>47</td>\n",
       "      <td>沖縄県</td>\n",
       "      <td>平成</td>\n",
       "      <td>27.0</td>\n",
       "      <td>2015.0</td>\n",
       "      <td>NaN</td>\n",
       "      <td>1433566</td>\n",
       "      <td>704619</td>\n",
       "      <td>728947</td>\n",
       "    </tr>\n",
       "    <tr>\n",
       "      <th>980</th>\n",
       "      <td>1)　沖縄県は調査されなかったため，含まれていない。</td>\n",
       "      <td>NaN</td>\n",
       "      <td>NaN</td>\n",
       "      <td>NaN</td>\n",
       "      <td>NaN</td>\n",
       "      <td>NaN</td>\n",
       "      <td>NaN</td>\n",
       "      <td>NaN</td>\n",
       "      <td>NaN</td>\n",
       "    </tr>\n",
       "    <tr>\n",
       "      <th>981</th>\n",
       "      <td>2)　長野県西筑摩群山口村と岐阜県中津川市の境界紛争地域人口（男39人，女34人）は全国に含...</td>\n",
       "      <td>NaN</td>\n",
       "      <td>NaN</td>\n",
       "      <td>NaN</td>\n",
       "      <td>NaN</td>\n",
       "      <td>NaN</td>\n",
       "      <td>NaN</td>\n",
       "      <td>NaN</td>\n",
       "      <td>NaN</td>\n",
       "    </tr>\n",
       "  </tbody>\n",
       "</table>\n",
       "<p>982 rows × 9 columns</p>\n",
       "</div>"
      ],
      "text/plain": [
       "                                               都道府県コード 都道府県名   元号  和暦（年）  \\\n",
       "0                                                   00    全国   大正    9.0   \n",
       "1                                                   01   北海道   大正    9.0   \n",
       "2                                                   02   青森県   大正    9.0   \n",
       "3                                                   03   岩手県   大正    9.0   \n",
       "4                                                   04   宮城県   大正    9.0   \n",
       "..                                                 ...   ...  ...    ...   \n",
       "977                                                 45   宮崎県   平成   27.0   \n",
       "978                                                 46  鹿児島県   平成   27.0   \n",
       "979                                                 47   沖縄県   平成   27.0   \n",
       "980                         1)　沖縄県は調査されなかったため，含まれていない。   NaN  NaN    NaN   \n",
       "981  2)　長野県西筑摩群山口村と岐阜県中津川市の境界紛争地域人口（男39人，女34人）は全国に含...   NaN  NaN    NaN   \n",
       "\n",
       "      西暦（年）    注    人口（総数）     人口（男）     人口（女）  \n",
       "0    1920.0  NaN  55963053  28044185  27918868  \n",
       "1    1920.0  NaN   2359183   1244322   1114861  \n",
       "2    1920.0  NaN    756454    381293    375161  \n",
       "3    1920.0  NaN    845540    421069    424471  \n",
       "4    1920.0  NaN    961768    485309    476459  \n",
       "..      ...  ...       ...       ...       ...  \n",
       "977  2015.0  NaN   1104069    519242    584827  \n",
       "978  2015.0  NaN   1648177    773061    875116  \n",
       "979  2015.0  NaN   1433566    704619    728947  \n",
       "980     NaN  NaN       NaN       NaN       NaN  \n",
       "981     NaN  NaN       NaN       NaN       NaN  \n",
       "\n",
       "[982 rows x 9 columns]"
      ]
     },
     "execution_count": 31,
     "metadata": {},
     "output_type": "execute_result"
    }
   ],
   "source": [
    "df_csv = pd.read_csv('population.csv', encoding = 'shift-jis')\n",
    "# Shift-JISは1文字あたりの容量は少ないが、表示環境によっては文字化けする可能性があり、文字種類も多い訳ではない\n",
    "# UTF-8は世界標準になってきており、どの国でも文字化けが起こらないが、Shift-JISの1.5倍の容量になる\n",
    "df_csv"
   ]
  },
  {
   "cell_type": "code",
   "execution_count": 17,
   "id": "24e37bd7-3e13-4d47-9fe6-81f8de9f85f6",
   "metadata": {},
   "outputs": [
    {
     "data": {
      "text/plain": [
       "pandas.core.indexes.range.RangeIndex"
      ]
     },
     "execution_count": 17,
     "metadata": {},
     "output_type": "execute_result"
    }
   ],
   "source": [
    "type(df_csv.index)"
   ]
  },
  {
   "cell_type": "code",
   "execution_count": 58,
   "id": "e848f55d-260b-4c4c-9075-cfc4d55ffaf6",
   "metadata": {},
   "outputs": [
    {
     "data": {
      "text/plain": [
       "都道府県コード     object\n",
       "都道府県名       object\n",
       "元号          object\n",
       "和暦（年）      float64\n",
       "西暦（年）      float64\n",
       "注           object\n",
       "人口（総数）      object\n",
       "人口（男）       object\n",
       "人口（女）       object\n",
       "dtype: object"
      ]
     },
     "execution_count": 58,
     "metadata": {},
     "output_type": "execute_result"
    }
   ],
   "source": [
    "df_csv.dtypes"
   ]
  },
  {
   "cell_type": "code",
   "execution_count": 25,
   "id": "6198a488-e3ed-410f-a89b-9992a3cd6f65",
   "metadata": {},
   "outputs": [
    {
     "data": {
      "text/html": [
       "<div>\n",
       "<style scoped>\n",
       "    .dataframe tbody tr th:only-of-type {\n",
       "        vertical-align: middle;\n",
       "    }\n",
       "\n",
       "    .dataframe tbody tr th {\n",
       "        vertical-align: top;\n",
       "    }\n",
       "\n",
       "    .dataframe thead th {\n",
       "        text-align: right;\n",
       "    }\n",
       "</style>\n",
       "<table border=\"1\" class=\"dataframe\">\n",
       "  <thead>\n",
       "    <tr style=\"text-align: right;\">\n",
       "      <th></th>\n",
       "      <th>jupyter</th>\n",
       "      <th>lab</th>\n",
       "    </tr>\n",
       "  </thead>\n",
       "  <tbody>\n",
       "  </tbody>\n",
       "</table>\n",
       "</div>"
      ],
      "text/plain": [
       "Empty DataFrame\n",
       "Columns: [jupyter, lab]\n",
       "Index: []"
      ]
     },
     "execution_count": 25,
     "metadata": {},
     "output_type": "execute_result"
    }
   ],
   "source": [
    "df_cb = pd.read_clipboard()\n",
    "df_cb"
   ]
  },
  {
   "cell_type": "code",
   "execution_count": 27,
   "id": "6a7accea-c722-473e-ba16-2d1ac8cb82e2",
   "metadata": {},
   "outputs": [
    {
     "data": {
      "text/plain": [
       "jupyter    object\n",
       "lab        object\n",
       "dtype: object"
      ]
     },
     "execution_count": 27,
     "metadata": {},
     "output_type": "execute_result"
    }
   ],
   "source": [
    "df_cb.dtypes"
   ]
  },
  {
   "cell_type": "code",
   "execution_count": 29,
   "id": "52cebdf0-52b3-425d-8f03-21c75a7afd7c",
   "metadata": {},
   "outputs": [
    {
     "data": {
      "text/plain": [
       "pandas.core.frame.DataFrame"
      ]
     },
     "execution_count": 29,
     "metadata": {},
     "output_type": "execute_result"
    }
   ],
   "source": [
    "type(df_cb)"
   ]
  },
  {
   "cell_type": "code",
   "execution_count": 47,
   "id": "0601a795-0f2b-4551-8e07-01d4d2373437",
   "metadata": {},
   "outputs": [],
   "source": [
    "import sqlite3"
   ]
  },
  {
   "cell_type": "code",
   "execution_count": 56,
   "id": "a9c856ca-6eaf-4143-b157-861bd60f154b",
   "metadata": {},
   "outputs": [],
   "source": [
    "dbname = 'TEST.db'\n",
    "conn = sqlite3.connect(dbname)\n",
    "conn.close()"
   ]
  },
  {
   "cell_type": "code",
   "execution_count": 59,
   "id": "eb87348b-a3e3-4963-a7a5-e79cff31a15b",
   "metadata": {},
   "outputs": [],
   "source": [
    "conn = sqlite3.connect(dbname)\n",
    "df_csv.to_sql('test_table', conn, if_exists = 'replace')\n",
    "conn.close()"
   ]
  },
  {
   "cell_type": "code",
   "execution_count": 60,
   "id": "5cbd1178-6a39-42d3-a871-0098bcc2d2a4",
   "metadata": {},
   "outputs": [
    {
     "data": {
      "text/html": [
       "<div>\n",
       "<style scoped>\n",
       "    .dataframe tbody tr th:only-of-type {\n",
       "        vertical-align: middle;\n",
       "    }\n",
       "\n",
       "    .dataframe tbody tr th {\n",
       "        vertical-align: top;\n",
       "    }\n",
       "\n",
       "    .dataframe thead th {\n",
       "        text-align: right;\n",
       "    }\n",
       "</style>\n",
       "<table border=\"1\" class=\"dataframe\">\n",
       "  <thead>\n",
       "    <tr style=\"text-align: right;\">\n",
       "      <th></th>\n",
       "      <th>index</th>\n",
       "      <th>都道府県コード</th>\n",
       "      <th>都道府県名</th>\n",
       "      <th>元号</th>\n",
       "      <th>和暦（年）</th>\n",
       "      <th>西暦（年）</th>\n",
       "      <th>注</th>\n",
       "      <th>人口（総数）</th>\n",
       "      <th>人口（男）</th>\n",
       "      <th>人口（女）</th>\n",
       "    </tr>\n",
       "  </thead>\n",
       "  <tbody>\n",
       "    <tr>\n",
       "      <th>0</th>\n",
       "      <td>0</td>\n",
       "      <td>00</td>\n",
       "      <td>全国</td>\n",
       "      <td>大正</td>\n",
       "      <td>9.0</td>\n",
       "      <td>1920.0</td>\n",
       "      <td>None</td>\n",
       "      <td>55963053</td>\n",
       "      <td>28044185</td>\n",
       "      <td>27918868</td>\n",
       "    </tr>\n",
       "    <tr>\n",
       "      <th>1</th>\n",
       "      <td>1</td>\n",
       "      <td>01</td>\n",
       "      <td>北海道</td>\n",
       "      <td>大正</td>\n",
       "      <td>9.0</td>\n",
       "      <td>1920.0</td>\n",
       "      <td>None</td>\n",
       "      <td>2359183</td>\n",
       "      <td>1244322</td>\n",
       "      <td>1114861</td>\n",
       "    </tr>\n",
       "    <tr>\n",
       "      <th>2</th>\n",
       "      <td>2</td>\n",
       "      <td>02</td>\n",
       "      <td>青森県</td>\n",
       "      <td>大正</td>\n",
       "      <td>9.0</td>\n",
       "      <td>1920.0</td>\n",
       "      <td>None</td>\n",
       "      <td>756454</td>\n",
       "      <td>381293</td>\n",
       "      <td>375161</td>\n",
       "    </tr>\n",
       "    <tr>\n",
       "      <th>3</th>\n",
       "      <td>3</td>\n",
       "      <td>03</td>\n",
       "      <td>岩手県</td>\n",
       "      <td>大正</td>\n",
       "      <td>9.0</td>\n",
       "      <td>1920.0</td>\n",
       "      <td>None</td>\n",
       "      <td>845540</td>\n",
       "      <td>421069</td>\n",
       "      <td>424471</td>\n",
       "    </tr>\n",
       "    <tr>\n",
       "      <th>4</th>\n",
       "      <td>4</td>\n",
       "      <td>04</td>\n",
       "      <td>宮城県</td>\n",
       "      <td>大正</td>\n",
       "      <td>9.0</td>\n",
       "      <td>1920.0</td>\n",
       "      <td>None</td>\n",
       "      <td>961768</td>\n",
       "      <td>485309</td>\n",
       "      <td>476459</td>\n",
       "    </tr>\n",
       "    <tr>\n",
       "      <th>...</th>\n",
       "      <td>...</td>\n",
       "      <td>...</td>\n",
       "      <td>...</td>\n",
       "      <td>...</td>\n",
       "      <td>...</td>\n",
       "      <td>...</td>\n",
       "      <td>...</td>\n",
       "      <td>...</td>\n",
       "      <td>...</td>\n",
       "      <td>...</td>\n",
       "    </tr>\n",
       "    <tr>\n",
       "      <th>977</th>\n",
       "      <td>977</td>\n",
       "      <td>45</td>\n",
       "      <td>宮崎県</td>\n",
       "      <td>平成</td>\n",
       "      <td>27.0</td>\n",
       "      <td>2015.0</td>\n",
       "      <td>None</td>\n",
       "      <td>1104069</td>\n",
       "      <td>519242</td>\n",
       "      <td>584827</td>\n",
       "    </tr>\n",
       "    <tr>\n",
       "      <th>978</th>\n",
       "      <td>978</td>\n",
       "      <td>46</td>\n",
       "      <td>鹿児島県</td>\n",
       "      <td>平成</td>\n",
       "      <td>27.0</td>\n",
       "      <td>2015.0</td>\n",
       "      <td>None</td>\n",
       "      <td>1648177</td>\n",
       "      <td>773061</td>\n",
       "      <td>875116</td>\n",
       "    </tr>\n",
       "    <tr>\n",
       "      <th>979</th>\n",
       "      <td>979</td>\n",
       "      <td>47</td>\n",
       "      <td>沖縄県</td>\n",
       "      <td>平成</td>\n",
       "      <td>27.0</td>\n",
       "      <td>2015.0</td>\n",
       "      <td>None</td>\n",
       "      <td>1433566</td>\n",
       "      <td>704619</td>\n",
       "      <td>728947</td>\n",
       "    </tr>\n",
       "    <tr>\n",
       "      <th>980</th>\n",
       "      <td>980</td>\n",
       "      <td>1)　沖縄県は調査されなかったため，含まれていない。</td>\n",
       "      <td>None</td>\n",
       "      <td>None</td>\n",
       "      <td>NaN</td>\n",
       "      <td>NaN</td>\n",
       "      <td>None</td>\n",
       "      <td>None</td>\n",
       "      <td>None</td>\n",
       "      <td>None</td>\n",
       "    </tr>\n",
       "    <tr>\n",
       "      <th>981</th>\n",
       "      <td>981</td>\n",
       "      <td>2)　長野県西筑摩群山口村と岐阜県中津川市の境界紛争地域人口（男39人，女34人）は全国に含...</td>\n",
       "      <td>None</td>\n",
       "      <td>None</td>\n",
       "      <td>NaN</td>\n",
       "      <td>NaN</td>\n",
       "      <td>None</td>\n",
       "      <td>None</td>\n",
       "      <td>None</td>\n",
       "      <td>None</td>\n",
       "    </tr>\n",
       "  </tbody>\n",
       "</table>\n",
       "<p>982 rows × 10 columns</p>\n",
       "</div>"
      ],
      "text/plain": [
       "     index                                            都道府県コード 都道府県名    元号  \\\n",
       "0        0                                                 00    全国    大正   \n",
       "1        1                                                 01   北海道    大正   \n",
       "2        2                                                 02   青森県    大正   \n",
       "3        3                                                 03   岩手県    大正   \n",
       "4        4                                                 04   宮城県    大正   \n",
       "..     ...                                                ...   ...   ...   \n",
       "977    977                                                 45   宮崎県    平成   \n",
       "978    978                                                 46  鹿児島県    平成   \n",
       "979    979                                                 47   沖縄県    平成   \n",
       "980    980                         1)　沖縄県は調査されなかったため，含まれていない。  None  None   \n",
       "981    981  2)　長野県西筑摩群山口村と岐阜県中津川市の境界紛争地域人口（男39人，女34人）は全国に含...  None  None   \n",
       "\n",
       "     和暦（年）   西暦（年）     注    人口（総数）     人口（男）     人口（女）  \n",
       "0      9.0  1920.0  None  55963053  28044185  27918868  \n",
       "1      9.0  1920.0  None   2359183   1244322   1114861  \n",
       "2      9.0  1920.0  None    756454    381293    375161  \n",
       "3      9.0  1920.0  None    845540    421069    424471  \n",
       "4      9.0  1920.0  None    961768    485309    476459  \n",
       "..     ...     ...   ...       ...       ...       ...  \n",
       "977   27.0  2015.0  None   1104069    519242    584827  \n",
       "978   27.0  2015.0  None   1648177    773061    875116  \n",
       "979   27.0  2015.0  None   1433566    704619    728947  \n",
       "980    NaN     NaN  None      None      None      None  \n",
       "981    NaN     NaN  None      None      None      None  \n",
       "\n",
       "[982 rows x 10 columns]"
      ]
     },
     "execution_count": 60,
     "metadata": {},
     "output_type": "execute_result"
    }
   ],
   "source": [
    "conn = sqlite3.connect(dbname)\n",
    "df_db = pd.read_sql('SELECT * FROM test_table', conn)\n",
    "conn.close()\n",
    "df_db"
   ]
  },
  {
   "cell_type": "code",
   "execution_count": 68,
   "id": "3f877464-371b-44d8-baf9-a77d7419f076",
   "metadata": {},
   "outputs": [
    {
     "data": {
      "text/html": [
       "<div>\n",
       "<style scoped>\n",
       "    .dataframe tbody tr th:only-of-type {\n",
       "        vertical-align: middle;\n",
       "    }\n",
       "\n",
       "    .dataframe tbody tr th {\n",
       "        vertical-align: top;\n",
       "    }\n",
       "\n",
       "    .dataframe thead th {\n",
       "        text-align: right;\n",
       "    }\n",
       "</style>\n",
       "<table border=\"1\" class=\"dataframe\">\n",
       "  <thead>\n",
       "    <tr style=\"text-align: right;\">\n",
       "      <th></th>\n",
       "      <th>index</th>\n",
       "      <th>都道府県コード</th>\n",
       "      <th>都道府県名</th>\n",
       "      <th>元号</th>\n",
       "      <th>和暦（年）</th>\n",
       "      <th>西暦（年）</th>\n",
       "      <th>注</th>\n",
       "      <th>人口（総数）</th>\n",
       "      <th>人口（男）</th>\n",
       "      <th>人口（女）</th>\n",
       "    </tr>\n",
       "  </thead>\n",
       "  <tbody>\n",
       "    <tr>\n",
       "      <th>13</th>\n",
       "      <td>13</td>\n",
       "      <td>13</td>\n",
       "      <td>東京都</td>\n",
       "      <td>大正</td>\n",
       "      <td>9.0</td>\n",
       "      <td>1920.0</td>\n",
       "      <td>None</td>\n",
       "      <td>3699428</td>\n",
       "      <td>1952989</td>\n",
       "      <td>1746439</td>\n",
       "    </tr>\n",
       "    <tr>\n",
       "      <th>61</th>\n",
       "      <td>61</td>\n",
       "      <td>13</td>\n",
       "      <td>東京都</td>\n",
       "      <td>大正</td>\n",
       "      <td>14.0</td>\n",
       "      <td>1925.0</td>\n",
       "      <td>None</td>\n",
       "      <td>4485144</td>\n",
       "      <td>2387609</td>\n",
       "      <td>2097535</td>\n",
       "    </tr>\n",
       "    <tr>\n",
       "      <th>109</th>\n",
       "      <td>109</td>\n",
       "      <td>13</td>\n",
       "      <td>東京都</td>\n",
       "      <td>昭和</td>\n",
       "      <td>5.0</td>\n",
       "      <td>1930.0</td>\n",
       "      <td>None</td>\n",
       "      <td>5408678</td>\n",
       "      <td>2855323</td>\n",
       "      <td>2553355</td>\n",
       "    </tr>\n",
       "    <tr>\n",
       "      <th>157</th>\n",
       "      <td>157</td>\n",
       "      <td>13</td>\n",
       "      <td>東京都</td>\n",
       "      <td>昭和</td>\n",
       "      <td>10.0</td>\n",
       "      <td>1935.0</td>\n",
       "      <td>None</td>\n",
       "      <td>6369919</td>\n",
       "      <td>3325696</td>\n",
       "      <td>3044223</td>\n",
       "    </tr>\n",
       "    <tr>\n",
       "      <th>205</th>\n",
       "      <td>205</td>\n",
       "      <td>13</td>\n",
       "      <td>東京都</td>\n",
       "      <td>昭和</td>\n",
       "      <td>15.0</td>\n",
       "      <td>1940.0</td>\n",
       "      <td>None</td>\n",
       "      <td>7354971</td>\n",
       "      <td>3795875</td>\n",
       "      <td>3559096</td>\n",
       "    </tr>\n",
       "    <tr>\n",
       "      <th>...</th>\n",
       "      <td>...</td>\n",
       "      <td>...</td>\n",
       "      <td>...</td>\n",
       "      <td>...</td>\n",
       "      <td>...</td>\n",
       "      <td>...</td>\n",
       "      <td>...</td>\n",
       "      <td>...</td>\n",
       "      <td>...</td>\n",
       "      <td>...</td>\n",
       "    </tr>\n",
       "    <tr>\n",
       "      <th>745</th>\n",
       "      <td>745</td>\n",
       "      <td>13</td>\n",
       "      <td>東京都</td>\n",
       "      <td>平成</td>\n",
       "      <td>7.0</td>\n",
       "      <td>1995.0</td>\n",
       "      <td>None</td>\n",
       "      <td>11773605</td>\n",
       "      <td>5892704</td>\n",
       "      <td>5880901</td>\n",
       "    </tr>\n",
       "    <tr>\n",
       "      <th>795</th>\n",
       "      <td>795</td>\n",
       "      <td>13</td>\n",
       "      <td>東京都</td>\n",
       "      <td>平成</td>\n",
       "      <td>12.0</td>\n",
       "      <td>2000.0</td>\n",
       "      <td>None</td>\n",
       "      <td>12064101</td>\n",
       "      <td>6028562</td>\n",
       "      <td>6035539</td>\n",
       "    </tr>\n",
       "    <tr>\n",
       "      <th>845</th>\n",
       "      <td>845</td>\n",
       "      <td>13</td>\n",
       "      <td>東京都</td>\n",
       "      <td>平成</td>\n",
       "      <td>17.0</td>\n",
       "      <td>2005.0</td>\n",
       "      <td>None</td>\n",
       "      <td>12576601</td>\n",
       "      <td>6264895</td>\n",
       "      <td>6311706</td>\n",
       "    </tr>\n",
       "    <tr>\n",
       "      <th>895</th>\n",
       "      <td>895</td>\n",
       "      <td>13</td>\n",
       "      <td>東京都</td>\n",
       "      <td>平成</td>\n",
       "      <td>22.0</td>\n",
       "      <td>2010.0</td>\n",
       "      <td>None</td>\n",
       "      <td>13159388</td>\n",
       "      <td>6512110</td>\n",
       "      <td>6647278</td>\n",
       "    </tr>\n",
       "    <tr>\n",
       "      <th>945</th>\n",
       "      <td>945</td>\n",
       "      <td>13</td>\n",
       "      <td>東京都</td>\n",
       "      <td>平成</td>\n",
       "      <td>27.0</td>\n",
       "      <td>2015.0</td>\n",
       "      <td>None</td>\n",
       "      <td>13515271</td>\n",
       "      <td>6666690</td>\n",
       "      <td>6848581</td>\n",
       "    </tr>\n",
       "  </tbody>\n",
       "</table>\n",
       "<p>20 rows × 10 columns</p>\n",
       "</div>"
      ],
      "text/plain": [
       "     index 都道府県コード 都道府県名  元号  和暦（年）   西暦（年）     注    人口（総数）    人口（男）    人口（女）\n",
       "13      13      13   東京都  大正    9.0  1920.0  None   3699428  1952989  1746439\n",
       "61      61      13   東京都  大正   14.0  1925.0  None   4485144  2387609  2097535\n",
       "109    109      13   東京都  昭和    5.0  1930.0  None   5408678  2855323  2553355\n",
       "157    157      13   東京都  昭和   10.0  1935.0  None   6369919  3325696  3044223\n",
       "205    205      13   東京都  昭和   15.0  1940.0  None   7354971  3795875  3559096\n",
       "..     ...     ...   ...  ..    ...     ...   ...       ...      ...      ...\n",
       "745    745      13   東京都  平成    7.0  1995.0  None  11773605  5892704  5880901\n",
       "795    795      13   東京都  平成   12.0  2000.0  None  12064101  6028562  6035539\n",
       "845    845      13   東京都  平成   17.0  2005.0  None  12576601  6264895  6311706\n",
       "895    895      13   東京都  平成   22.0  2010.0  None  13159388  6512110  6647278\n",
       "945    945      13   東京都  平成   27.0  2015.0  None  13515271  6666690  6848581\n",
       "\n",
       "[20 rows x 10 columns]"
      ]
     },
     "execution_count": 68,
     "metadata": {},
     "output_type": "execute_result"
    }
   ],
   "source": [
    "df_db.query('都道府県名 == \"東京都\"')"
   ]
  },
  {
   "cell_type": "code",
   "execution_count": 69,
   "id": "23257a30-b98a-4382-a655-2cfa087c6c7f",
   "metadata": {},
   "outputs": [
    {
     "name": "stdout",
     "output_type": "stream",
     "text": [
      "<class 'pandas.core.frame.DataFrame'>\n",
      "RangeIndex: 982 entries, 0 to 981\n",
      "Data columns (total 10 columns):\n",
      " #   Column   Non-Null Count  Dtype  \n",
      "---  ------   --------------  -----  \n",
      " 0   index    982 non-null    int64  \n",
      " 1   都道府県コード  982 non-null    object \n",
      " 2   都道府県名    980 non-null    object \n",
      " 3   元号       980 non-null    object \n",
      " 4   和暦（年）    980 non-null    float64\n",
      " 5   西暦（年）    980 non-null    float64\n",
      " 6   注        96 non-null     object \n",
      " 7   人口（総数）   980 non-null    object \n",
      " 8   人口（男）    980 non-null    object \n",
      " 9   人口（女）    980 non-null    object \n",
      "dtypes: float64(2), int64(1), object(7)\n",
      "memory usage: 76.8+ KB\n"
     ]
    }
   ],
   "source": [
    "df_db.info()"
   ]
  },
  {
   "cell_type": "code",
   "execution_count": 70,
   "id": "28fb0bec-2dd6-44fd-8dc6-ce813cb692bc",
   "metadata": {},
   "outputs": [
    {
     "data": {
      "text/plain": [
       "0     7000\n",
       "1     5000\n",
       "2    23000\n",
       "3     2500\n",
       "4    12000\n",
       "dtype: int64"
      ]
     },
     "execution_count": 70,
     "metadata": {},
     "output_type": "execute_result"
    }
   ],
   "source": [
    "s1 = pd.Series([7000, 5000, 23000, 2500, 12000])\n",
    "s1"
   ]
  },
  {
   "cell_type": "code",
   "execution_count": 71,
   "id": "7a0051a5-834e-4a02-ab24-43f96ac0ceb2",
   "metadata": {},
   "outputs": [
    {
     "data": {
      "text/plain": [
       "0    14000\n",
       "1    10000\n",
       "2    46000\n",
       "3     5000\n",
       "4    24000\n",
       "dtype: int64"
      ]
     },
     "execution_count": 71,
     "metadata": {},
     "output_type": "execute_result"
    }
   ],
   "source": [
    "s1 * 2"
   ]
  },
  {
   "cell_type": "code",
   "execution_count": 72,
   "id": "215fd62a-886b-46ee-8e1d-f8323ea6098c",
   "metadata": {},
   "outputs": [],
   "source": [
    "def double(x):\n",
    "    return x * 2"
   ]
  },
  {
   "cell_type": "code",
   "execution_count": 73,
   "id": "1ea72990-9ad1-4093-b8ff-6f57fabcb46c",
   "metadata": {},
   "outputs": [
    {
     "data": {
      "text/plain": [
       "0    14000\n",
       "1    10000\n",
       "2    46000\n",
       "3     5000\n",
       "4    24000\n",
       "dtype: int64"
      ]
     },
     "execution_count": 73,
     "metadata": {},
     "output_type": "execute_result"
    }
   ],
   "source": [
    "s1.map(double)"
   ]
  },
  {
   "cell_type": "code",
   "execution_count": 76,
   "id": "6503a80a-f45f-4168-9cf3-f8326320a99f",
   "metadata": {},
   "outputs": [
    {
     "data": {
      "text/plain": [
       "0    14000\n",
       "1    10000\n",
       "2    46000\n",
       "3     5000\n",
       "4    24000\n",
       "dtype: int64"
      ]
     },
     "execution_count": 76,
     "metadata": {},
     "output_type": "execute_result"
    }
   ],
   "source": [
    "s1.map(lambda x: x * 2)\n",
    "# ラムダ式：無名関数"
   ]
  },
  {
   "cell_type": "code",
   "execution_count": 77,
   "id": "2937e7fe-9aea-41c4-8686-263d5a5b0fd3",
   "metadata": {},
   "outputs": [
    {
     "data": {
      "text/plain": [
       "0     49000000\n",
       "1     25000000\n",
       "2    529000000\n",
       "3      6250000\n",
       "4    144000000\n",
       "dtype: int64"
      ]
     },
     "execution_count": 77,
     "metadata": {},
     "output_type": "execute_result"
    }
   ],
   "source": [
    "s1.map(np.square)"
   ]
  },
  {
   "cell_type": "code",
   "execution_count": 78,
   "id": "d22af9d7-fd52-4e80-9fc9-9c651ffcab2b",
   "metadata": {},
   "outputs": [
    {
     "data": {
      "text/plain": [
       "49500"
      ]
     },
     "execution_count": 78,
     "metadata": {},
     "output_type": "execute_result"
    }
   ],
   "source": [
    "s1.sum()"
   ]
  },
  {
   "cell_type": "code",
   "execution_count": 79,
   "id": "fefb213e-500d-4a46-9700-ec11442032f0",
   "metadata": {},
   "outputs": [],
   "source": [
    "import re\n",
    "# 正規表現を使用するライブラリ"
   ]
  },
  {
   "cell_type": "code",
   "execution_count": 80,
   "id": "b121dfab-0b18-4c66-985a-f14ee2cdbbe5",
   "metadata": {},
   "outputs": [
    {
     "data": {
      "text/plain": [
       "0     7000円\n",
       "1     5000円\n",
       "2    23000円\n",
       "3     2500円\n",
       "4    12000円\n",
       "dtype: object"
      ]
     },
     "execution_count": 80,
     "metadata": {},
     "output_type": "execute_result"
    }
   ],
   "source": [
    "s1.map('{}円'.format)"
   ]
  },
  {
   "cell_type": "markdown",
   "id": "53591575-c68b-4692-8030-49dcbfe697d1",
   "metadata": {},
   "source": [
    "[![Image from Gyazo](https://i.gyazo.com/46bad6a63e611296ccf533fa9c26bb36.png)](https://gyazo.com/46bad6a63e611296ccf533fa9c26bb36)"
   ]
  },
  {
   "cell_type": "code",
   "execution_count": null,
   "id": "3d167cda-8420-4814-9819-4c3ab3b5159c",
   "metadata": {},
   "outputs": [],
   "source": []
  }
 ],
 "metadata": {
  "kernelspec": {
   "display_name": "Python 3 (ipykernel)",
   "language": "python",
   "name": "python3"
  },
  "language_info": {
   "codemirror_mode": {
    "name": "ipython",
    "version": 3
   },
   "file_extension": ".py",
   "mimetype": "text/x-python",
   "name": "python",
   "nbconvert_exporter": "python",
   "pygments_lexer": "ipython3",
   "version": "3.9.12"
  }
 },
 "nbformat": 4,
 "nbformat_minor": 5
}
