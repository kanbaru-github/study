{
 "cells": [
  {
   "cell_type": "code",
   "execution_count": 2,
   "id": "d17f5eb2-042b-4c97-9c14-0d5fc62f738c",
   "metadata": {},
   "outputs": [
    {
     "name": "stdout",
     "output_type": "stream",
     "text": [
      "3\n"
     ]
    }
   ],
   "source": [
    "print(1+2)"
   ]
  },
  {
   "cell_type": "code",
   "execution_count": 3,
   "id": "6e70d587-f219-46f7-bbde-12e6a3a6ff60",
   "metadata": {},
   "outputs": [
    {
     "name": "stdout",
     "output_type": "stream",
     "text": [
      "hello world\n"
     ]
    }
   ],
   "source": [
    "print('hello world')"
   ]
  },
  {
   "cell_type": "code",
   "execution_count": 4,
   "id": "6340bbb4-21ab-40b7-8078-a651999e7a82",
   "metadata": {},
   "outputs": [
    {
     "data": {
      "text/plain": [
       "'hello world'"
      ]
     },
     "execution_count": 4,
     "metadata": {},
     "output_type": "execute_result"
    }
   ],
   "source": [
    "'hello world'\n",
    "# コメントアウト"
   ]
  },
  {
   "cell_type": "markdown",
   "id": "09c9c855-54cc-4f10-91d3-4e4f85e01023",
   "metadata": {},
   "source": [
    "## こんにちは"
   ]
  },
  {
   "cell_type": "code",
   "execution_count": null,
   "id": "e579b4f9-be8b-41d8-81e8-9515d34d4c27",
   "metadata": {},
   "outputs": [],
   "source": []
  }
 ],
 "metadata": {
  "kernelspec": {
   "display_name": "Python 3 (ipykernel)",
   "language": "python",
   "name": "python3"
  },
  "language_info": {
   "codemirror_mode": {
    "name": "ipython",
    "version": 3
   },
   "file_extension": ".py",
   "mimetype": "text/x-python",
   "name": "python",
   "nbconvert_exporter": "python",
   "pygments_lexer": "ipython3",
   "version": "3.9.12"
  }
 },
 "nbformat": 4,
 "nbformat_minor": 5
}
