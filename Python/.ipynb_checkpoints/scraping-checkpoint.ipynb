{
 "cells": [
  {
   "cell_type": "code",
   "execution_count": 12,
   "id": "667411e3-3033-400c-a062-c9fc2dc4a26f",
   "metadata": {},
   "outputs": [],
   "source": [
    "from bs4 import BeautifulSoup\n",
    "import urllib.request as req"
   ]
  },
  {
   "cell_type": "code",
   "execution_count": 13,
   "id": "47c58b38-cd50-4300-adc3-4c83821f541b",
   "metadata": {},
   "outputs": [],
   "source": [
    "url = \"https://kino-code.work/python-scraping/\"\n",
    "response = req.urlopen(url)"
   ]
  },
  {
   "cell_type": "code",
   "execution_count": 16,
   "id": "f97f91b8-5c7a-44de-a5f2-498509a5eb4c",
   "metadata": {},
   "outputs": [],
   "source": [
    "parse_html = BeautifulSoup(response, 'html.parser')"
   ]
  },
  {
   "cell_type": "code",
   "execution_count": 18,
   "id": "0d6eeffd-40d4-446a-a4ac-0d861cddb595",
   "metadata": {},
   "outputs": [
    {
     "name": "stdout",
     "output_type": "stream",
     "text": [
      "[]\n"
     ]
    }
   ],
   "source": [
    "print(parse_html.find_all('a'))"
   ]
  },
  {
   "cell_type": "code",
   "execution_count": 19,
   "id": "e7c3a6ab-5204-45fa-b030-2682606aef56",
   "metadata": {},
   "outputs": [
    {
     "ename": "IndexError",
     "evalue": "list index out of range",
     "output_type": "error",
     "traceback": [
      "\u001b[0;31m---------------------------------------------------------------------------\u001b[0m",
      "\u001b[0;31mIndexError\u001b[0m                                Traceback (most recent call last)",
      "Input \u001b[0;32mIn [19]\u001b[0m, in \u001b[0;36m<cell line: 2>\u001b[0;34m()\u001b[0m\n\u001b[1;32m      1\u001b[0m title_lists \u001b[38;5;241m=\u001b[39m parse_html\u001b[38;5;241m.\u001b[39mfind_all(\u001b[38;5;124m'\u001b[39m\u001b[38;5;124ma\u001b[39m\u001b[38;5;124m'\u001b[39m)\n\u001b[0;32m----> 2\u001b[0m \u001b[43mtitle_lists\u001b[49m\u001b[43m[\u001b[49m\u001b[38;5;241;43m10\u001b[39;49m\u001b[43m]\u001b[49m\u001b[38;5;241m.\u001b[39mstring\n",
      "\u001b[0;31mIndexError\u001b[0m: list index out of range"
     ]
    }
   ],
   "source": [
    "title_lists = parse_html.find_all('a')\n",
    "title_lists[10].string"
   ]
  },
  {
   "cell_type": "code",
   "execution_count": null,
   "id": "e1cb3921-f167-40ea-b3a0-37c306f52c45",
   "metadata": {},
   "outputs": [],
   "source": []
  }
 ],
 "metadata": {
  "kernelspec": {
   "display_name": "Python 3 (ipykernel)",
   "language": "python",
   "name": "python3"
  },
  "language_info": {
   "codemirror_mode": {
    "name": "ipython",
    "version": 3
   },
   "file_extension": ".py",
   "mimetype": "text/x-python",
   "name": "python",
   "nbconvert_exporter": "python",
   "pygments_lexer": "ipython3",
   "version": "3.9.12"
  }
 },
 "nbformat": 4,
 "nbformat_minor": 5
}
